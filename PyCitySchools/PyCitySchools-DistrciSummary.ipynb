{
 "cells": [
  {
   "cell_type": "code",
   "execution_count": 2,
   "metadata": {},
   "outputs": [],
   "source": [
    "# Dependencies and Setup\n",
    "import pandas as pd\n",
    "import numpy as np \n",
    "\n",
    "# File to Load (Remember to Change These)\n",
    "school_data_to_load = \"Resources/schools_complete.csv\"\n",
    "student_data_to_load = \"Resources/students_complete.csv\"\n",
    "\n",
    "# Read School and Student Data File and store into Pandas Data Frames\n",
    "school_data = pd.read_csv(school_data_to_load)\n",
    "student_data = pd.read_csv(student_data_to_load)\n",
    "\n",
    "# Combine the data into a single dataset\n",
    "school_combined_df = pd.merge(student_data, school_data, how=\"left\", on=[\"school_name\", \"school_name\"])\n"
   ]
  },
  {
   "cell_type": "markdown",
   "metadata": {},
   "source": [
    "## District Summary"
   ]
  },
  {
   "cell_type": "code",
   "execution_count": 3,
   "metadata": {},
   "outputs": [
    {
     "data": {
      "text/html": [
       "<div>\n",
       "<style scoped>\n",
       "    .dataframe tbody tr th:only-of-type {\n",
       "        vertical-align: middle;\n",
       "    }\n",
       "\n",
       "    .dataframe tbody tr th {\n",
       "        vertical-align: top;\n",
       "    }\n",
       "\n",
       "    .dataframe thead th {\n",
       "        text-align: right;\n",
       "    }\n",
       "</style>\n",
       "<table border=\"1\" class=\"dataframe\">\n",
       "  <thead>\n",
       "    <tr style=\"text-align: right;\">\n",
       "      <th></th>\n",
       "      <th>Total Schools</th>\n",
       "      <th>Total Stuidents</th>\n",
       "      <th>Total Budget (USD Billions)</th>\n",
       "      <th>Average Math Score</th>\n",
       "      <th>Average Reading Score</th>\n",
       "      <th>Passing Math (%)</th>\n",
       "      <th>Passing Reading (%)</th>\n",
       "      <th>Overall Passing Rate (%)</th>\n",
       "    </tr>\n",
       "  </thead>\n",
       "  <tbody>\n",
       "    <tr>\n",
       "      <th>0</th>\n",
       "      <td>15</td>\n",
       "      <td>39170</td>\n",
       "      <td>82.93</td>\n",
       "      <td>78.99</td>\n",
       "      <td>81.88</td>\n",
       "      <td>74.98</td>\n",
       "      <td>85.81</td>\n",
       "      <td>80.43</td>\n",
       "    </tr>\n",
       "  </tbody>\n",
       "</table>\n",
       "</div>"
      ],
      "text/plain": [
       "   Total Schools  Total Stuidents  Total Budget (USD Billions)  \\\n",
       "0             15            39170                        82.93   \n",
       "\n",
       "   Average Math Score  Average Reading Score  Passing Math (%)  \\\n",
       "0               78.99                  81.88             74.98   \n",
       "\n",
       "   Passing Reading (%)  Overall Passing Rate (%)  \n",
       "0                85.81                     80.43  "
      ]
     },
     "execution_count": 3,
     "metadata": {},
     "output_type": "execute_result"
    }
   ],
   "source": [
    "total_schools = len(school_combined_df['school_name'].unique().tolist())\n",
    "total_students = len(school_combined_df['Student ID'].unique().tolist())\n",
    "#Calculate the total budget\n",
    "total_budget = school_combined_df['budget'].sum()\n",
    "#Calculate the average math score and store in a variable\n",
    "math_score_mean = school_combined_df['math_score'].mean()\n",
    "#Calculate the average reading score and store in a variable\n",
    "reading_score_mean = school_combined_df['reading_score'].mean()\n",
    "#Calculate the overall passing rate (overall average score), i.e. (avg. math score + avg. reading score)/2\n",
    "rate_overall_passing = (reading_score_mean + math_score_mean)/2\n",
    "#Calculate the percentage of students with a passing math score (70 or greater)\n",
    "pass_math = (school_combined_df['math_score'] >= 70).sum()\n",
    "#passing_math_rate = pass_math/total_math * 100\n",
    "rate_passing_math = (pass_math/total_students)*100\n",
    "#Calculate the percentage of students with a passing reading score (70 or greater)\n",
    "pass_reading = (school_combined_df['reading_score'] >= 70).sum()\n",
    "rate_passing_reading = (pass_reading/total_students)*100\n",
    "#Create a dataframe to hold the above results\n",
    "district_summary_df = pd.DataFrame([{'Total Schools': total_schools,\n",
    "                       'Total Stuidents':total_students,\n",
    "                       'Total Budget (USD Billions)': total_budget/1000000000,\n",
    "                       'Average Math Score': math_score_mean,\n",
    "                       'Average Reading Score': reading_score_mean,\n",
    "                       'Passing Math (%)': rate_passing_math,\n",
    "                       'Passing Reading (%)': rate_passing_reading,\n",
    "                       'Overall Passing Rate (%)': rate_overall_passing}])\n",
    "\n",
    "district_summary_df.round(2)\n",
    "\n",
    "#Optional: give the displayed data cleaner formatting"
   ]
  }
 ],
 "metadata": {
  "kernelspec": {
   "display_name": "Python 3",
   "language": "python",
   "name": "python3"
  },
  "language_info": {
   "codemirror_mode": {
    "name": "ipython",
    "version": 3
   },
   "file_extension": ".py",
   "mimetype": "text/x-python",
   "name": "python",
   "nbconvert_exporter": "python",
   "pygments_lexer": "ipython3",
   "version": "3.6.10"
  }
 },
 "nbformat": 4,
 "nbformat_minor": 4
}
